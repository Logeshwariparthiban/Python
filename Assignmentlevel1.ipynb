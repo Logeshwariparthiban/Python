{
 "cells": [
  {
   "cell_type": "code",
   "execution_count": 1,
   "id": "56f56988-a8bb-4d01-ba8e-a3f84ddc428e",
   "metadata": {},
   "outputs": [
    {
     "name": "stdout",
     "output_type": "stream",
     "text": [
      "HOPE AI\n"
     ]
    }
   ],
   "source": [
    "print(\"HOPE AI\")"
   ]
  },
  {
   "cell_type": "code",
   "execution_count": 2,
   "id": "6aa90b0b-0020-46a1-a1ed-52324b10fac2",
   "metadata": {},
   "outputs": [
    {
     "name": "stdin",
     "output_type": "stream",
     "text": [
      "Enter your institute name? : HOPE AI\n"
     ]
    }
   ],
   "source": [
    "txt=input(\"Enter your institute name? :\")"
   ]
  },
  {
   "cell_type": "code",
   "execution_count": 4,
   "id": "532bb1ec-b336-48da-9dfb-2f312191bef7",
   "metadata": {},
   "outputs": [
    {
     "name": "stdin",
     "output_type": "stream",
     "text": [
      "Enter you name: Raj\n",
      "Enter you age: 15\n",
      "Enter you school name: Guru school\n",
      "Enter your degree: B.E CSE\n"
     ]
    }
   ],
   "source": [
    "name=input(\"Enter you name:\")\n",
    "age=int(input(\"Enter you age:\"))\n",
    "school=input(\"Enter you school name:\")\n",
    "degree=input(\"Enter your degree:\")"
   ]
  },
  {
   "cell_type": "code",
   "execution_count": 6,
   "id": "8d2ab1de-7a7b-452d-97dd-216c003b483b",
   "metadata": {},
   "outputs": [
    {
     "name": "stdin",
     "output_type": "stream",
     "text": [
      "a= 43\n",
      "b= 34\n"
     ]
    },
    {
     "name": "stdout",
     "output_type": "stream",
     "text": [
      "77\n"
     ]
    }
   ],
   "source": [
    "a=int(input(\"a=\"))\n",
    "b=int(input(\"b=\"))\n",
    "add=a+b\n",
    "print(add)\n",
    "      "
   ]
  },
  {
   "cell_type": "code",
   "execution_count": 7,
   "id": "56bc474e-0ce0-40a6-8e20-78da1f25cbc0",
   "metadata": {},
   "outputs": [
    {
     "name": "stdout",
     "output_type": "stream",
     "text": [
      "9\n"
     ]
    }
   ],
   "source": [
    "Sub=a-b\n",
    "print(Sub)"
   ]
  },
  {
   "cell_type": "code",
   "execution_count": 8,
   "id": "4aa613a5-bcb4-4afe-939f-fe06c3c4a384",
   "metadata": {},
   "outputs": [
    {
     "name": "stdin",
     "output_type": "stream",
     "text": [
      "a= 63\n",
      "b= 97\n"
     ]
    },
    {
     "name": "stdout",
     "output_type": "stream",
     "text": [
      "6111\n"
     ]
    }
   ],
   "source": [
    "num1=int(input(\"a=\"))\n",
    "num2=int(input(\"b=\"))\n",
    "Mul=num1*num2\n",
    "print(Mul)"
   ]
  },
  {
   "cell_type": "code",
   "execution_count": 9,
   "id": "a2cc4e16-4ceb-44af-97f7-11e4935dc282",
   "metadata": {},
   "outputs": [
    {
     "name": "stdin",
     "output_type": "stream",
     "text": [
      "a= 76\n",
      "b= 31\n"
     ]
    },
    {
     "name": "stdout",
     "output_type": "stream",
     "text": [
      "2.4516129032258065\n"
     ]
    }
   ],
   "source": [
    "number1=int(input(\"a=\"))\n",
    "number2=int(input(\"b=\"))\n",
    "Float_Div=number1/number2\n",
    "print(Float_Div)"
   ]
  },
  {
   "cell_type": "code",
   "execution_count": 10,
   "id": "881626fe-1505-42f5-af24-28435181519d",
   "metadata": {},
   "outputs": [
    {
     "name": "stdout",
     "output_type": "stream",
     "text": [
      "2\n"
     ]
    }
   ],
   "source": [
    "Floor_Division=number1//number2\n",
    "print(Floor_Division)"
   ]
  },
  {
   "cell_type": "code",
   "execution_count": 11,
   "id": "9fbb20cc-252a-419b-ab1a-6afc8ee3fc35",
   "metadata": {},
   "outputs": [
    {
     "name": "stdout",
     "output_type": "stream",
     "text": [
      "14\n"
     ]
    }
   ],
   "source": [
    "Modulo=number1%number2\n",
    "print(Modulo)"
   ]
  },
  {
   "cell_type": "code",
   "execution_count": 12,
   "id": "358d0a30-b1fc-40f0-9c95-c461153f941a",
   "metadata": {},
   "outputs": [
    {
     "name": "stdin",
     "output_type": "stream",
     "text": [
      "a= 4\n",
      "b= 4\n"
     ]
    },
    {
     "name": "stdout",
     "output_type": "stream",
     "text": [
      "256\n"
     ]
    }
   ],
   "source": [
    "nums1=int(input(\"a=\"))\n",
    "nums2=int(input(\"b=\"))\n",
    "Power=nums1**nums2\n",
    "print(Power)"
   ]
  },
  {
   "cell_type": "code",
   "execution_count": null,
   "id": "9375df57-970f-4b43-9a32-077a1b966f4f",
   "metadata": {},
   "outputs": [],
   "source": []
  }
 ],
 "metadata": {
  "kernelspec": {
   "display_name": "Python 3 (ipykernel)",
   "language": "python",
   "name": "python3"
  },
  "language_info": {
   "codemirror_mode": {
    "name": "ipython",
    "version": 3
   },
   "file_extension": ".py",
   "mimetype": "text/x-python",
   "name": "python",
   "nbconvert_exporter": "python",
   "pygments_lexer": "ipython3",
   "version": "3.12.4"
  }
 },
 "nbformat": 4,
 "nbformat_minor": 5
}
