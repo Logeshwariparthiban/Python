{
 "cells": [
  {
   "cell_type": "code",
   "execution_count": 20,
   "id": "5eed39dd-6985-4365-951d-075e07788c57",
   "metadata": {},
   "outputs": [
    {
     "name": "stdout",
     "output_type": "stream",
     "text": [
      "Subfields in AI are:\n",
      "Machine Leaning\n",
      "Neural Networks\n",
      "Vision\n",
      "Robotics\n",
      "Speech processing\n",
      "Natural Language Processing\n"
     ]
    }
   ],
   "source": [
    "def Subfields(items):\n",
    "    for item in items:\n",
    "        print(item)\n",
    "print(\"Subfields in AI are:\")        \n",
    "mylist= [\"Machine Leaning\", \"Neural Networks\", \"Vision\", \"Robotics\", \"Speech processing\", \"Natural Language Processing\"]\n",
    "Subfields(mylist)\n"
   ]
  },
  {
   "cell_type": "code",
   "execution_count": 34,
   "id": "ca214398-1622-4730-ac83-5c81ff152e13",
   "metadata": {},
   "outputs": [
    {
     "name": "stdin",
     "output_type": "stream",
     "text": [
      "Enter a number: 52452\n"
     ]
    },
    {
     "name": "stdout",
     "output_type": "stream",
     "text": [
      "52452 is even number\n"
     ]
    }
   ],
   "source": [
    "def OddEven():\n",
    "    num=int(input(\"Enter a number:\"))\n",
    "    if(num%2==0):\n",
    "        print(f\"{num} is even number\")\n",
    "    else:\n",
    "        print(\"No is odd number\")\n",
    "OddEven()\n",
    "    "
   ]
  },
  {
   "cell_type": "code",
   "execution_count": 41,
   "id": "4834cdc6-2692-47c8-ac83-1b0b60585153",
   "metadata": {},
   "outputs": [
    {
     "name": "stdin",
     "output_type": "stream",
     "text": [
      "Your Gender: male\n",
      "Your Age: 20\n"
     ]
    },
    {
     "name": "stdout",
     "output_type": "stream",
     "text": [
      "NOT ELIGIBLE\n"
     ]
    }
   ],
   "source": [
    "def Eligible():\n",
    "    Gender=input(\"Your Gender:\")\n",
    "    Age=int(input(\"Your Age:\"))\n",
    "    if Gender.lower()==\"male\":\n",
    "        if(Age>=21):\n",
    "            print(\"ELIGIBLE\")\n",
    "        else:\n",
    "            print(\"NOT ELIGIBLE\")\n",
    "    elif Gender.lower()==\"female\":\n",
    "        if(Age>=18):\n",
    "            print(\"ELIGIBLE\")\n",
    "        else:\n",
    "            print(\"NOT ELIGIBLE\")\n",
    "    else:\n",
    "        print(\"Invalid Gender\")\n",
    "Eligible()\n",
    "  "
   ]
  },
  {
   "cell_type": "code",
   "execution_count": 42,
   "id": "6106c686-0387-4784-b16d-fce97f662485",
   "metadata": {},
   "outputs": [
    {
     "name": "stdin",
     "output_type": "stream",
     "text": [
      "subject1= 98\n",
      "subject2= 87\n",
      "subject3= 95\n",
      "subject4= 95\n",
      "subject5= 93\n"
     ]
    },
    {
     "name": "stdout",
     "output_type": "stream",
     "text": [
      "468\n",
      "93.60000000000001\n"
     ]
    }
   ],
   "source": [
    "def percentage():\n",
    "    sub1=int(input(\"subject1=\"))\n",
    "    sub2=int(input(\"subject2=\"))\n",
    "    sub3=int(input(\"subject3=\"))\n",
    "    sub4=int(input(\"subject4=\"))\n",
    "    sub5=int(input(\"subject5=\"))\n",
    "    Total=sub1+sub2+sub3+sub4+sub5\n",
    "    print(Total)\n",
    "    Percentage=((Total/500)*100)\n",
    "    print(Percentage)\n",
    "percentage()    \n",
    "    "
   ]
  },
  {
   "cell_type": "code",
   "execution_count": 48,
   "id": "a0f01e5c-c87f-466d-9a87-1e63b922be5c",
   "metadata": {},
   "outputs": [
    {
     "name": "stdin",
     "output_type": "stream",
     "text": [
      "Height: 32\n",
      "Breadth: 34\n"
     ]
    },
    {
     "name": "stdout",
     "output_type": "stream",
     "text": [
      "Area formula: (Height*Breadth)/2\n",
      "Area of Triangle: 544.0\n"
     ]
    },
    {
     "name": "stdin",
     "output_type": "stream",
     "text": [
      "Height1: 2\n",
      "Height2: 4\n",
      "Breadth: 4\n"
     ]
    },
    {
     "name": "stdout",
     "output_type": "stream",
     "text": [
      "Perimeter formula: Height1+Height2+Breadth\n",
      "Perimeter of Triangle: 10\n"
     ]
    }
   ],
   "source": [
    "def triangle():\n",
    "    Height=int(input(\"Height:\"))\n",
    "    Breadth=int(input(\"Breadth:\"))\n",
    "    formula1=\"(Height*Breadth)/2\"\n",
    "    Area=(Height*Breadth)/2\n",
    "    print(f\"Area formula: {formula1}\") \n",
    "    print(f\"Area of Triangle: {Area}\")\n",
    "    Height1=int(input(\"Height1:\"))\n",
    "    Height2=int(input(\"Height2:\"))\n",
    "    Breadth=int(input(\"Breadth:\"))\n",
    "    formula2=\"Height1+Height2+Breadth\"\n",
    "    Perimeter=Height1+Height2+Breadth\n",
    "    print(f\"Perimeter formula: {formula2}\")\n",
    "    print(f\"Perimeter of Triangle: {Perimeter}\")\n",
    "triangle()\n",
    "    \n",
    "    \n",
    "    "
   ]
  },
  {
   "cell_type": "code",
   "execution_count": null,
   "id": "42ab7a06-93f0-4115-97da-b6b2e04b697b",
   "metadata": {},
   "outputs": [],
   "source": []
  }
 ],
 "metadata": {
  "kernelspec": {
   "display_name": "Python 3 (ipykernel)",
   "language": "python",
   "name": "python3"
  },
  "language_info": {
   "codemirror_mode": {
    "name": "ipython",
    "version": 3
   },
   "file_extension": ".py",
   "mimetype": "text/x-python",
   "name": "python",
   "nbconvert_exporter": "python",
   "pygments_lexer": "ipython3",
   "version": "3.12.4"
  }
 },
 "nbformat": 4,
 "nbformat_minor": 5
}
